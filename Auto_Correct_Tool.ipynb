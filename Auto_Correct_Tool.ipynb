{
 "cells": [
  {
   "cell_type": "code",
   "execution_count": 28,
   "id": "f119d899-1751-4aaf-90c0-2e097fe945bf",
   "metadata": {},
   "outputs": [
    {
     "name": "stdout",
     "output_type": "stream",
     "text": [
      "Defaulting to user installation because normal site-packages is not writeable\n",
      "Requirement already satisfied: spello in c:\\users\\hp\\appdata\\roaming\\python\\python311\\site-packages (1.3.0)\n",
      "Requirement already satisfied: nltk<4,>=3.4.5 in c:\\users\\hp\\appdata\\roaming\\python\\python311\\site-packages (from spello) (3.8.1)\n",
      "Requirement already satisfied: click in c:\\users\\hp\\appdata\\roaming\\python\\python311\\site-packages (from nltk<4,>=3.4.5->spello) (8.1.6)\n",
      "Requirement already satisfied: joblib in c:\\users\\hp\\appdata\\roaming\\python\\python311\\site-packages (from nltk<4,>=3.4.5->spello) (1.3.1)\n",
      "Requirement already satisfied: regex>=2021.8.3 in c:\\users\\hp\\appdata\\roaming\\python\\python311\\site-packages (from nltk<4,>=3.4.5->spello) (2023.6.3)\n",
      "Requirement already satisfied: tqdm in c:\\users\\hp\\appdata\\roaming\\python\\python311\\site-packages (from nltk<4,>=3.4.5->spello) (4.65.0)\n",
      "Requirement already satisfied: colorama in c:\\users\\hp\\appdata\\roaming\\python\\python311\\site-packages (from click->nltk<4,>=3.4.5->spello) (0.4.6)\n"
     ]
    }
   ],
   "source": [
    "!pip install spello"
   ]
  },
  {
   "cell_type": "code",
   "execution_count": 29,
   "id": "3a1c168f-c3b6-41c3-83ed-ef87bb94ffce",
   "metadata": {},
   "outputs": [],
   "source": [
    "from spello.model import SpellCorrectionModel"
   ]
  },
  {
   "cell_type": "code",
   "execution_count": 30,
   "id": "64ef5a4a-b10a-49b1-8e1e-beb4fe62a9ac",
   "metadata": {},
   "outputs": [],
   "source": [
    "scmodel = SpellCorrectionModel(language=\"en\")"
   ]
  },
  {
   "cell_type": "code",
   "execution_count": 31,
   "id": "c9c61dc1-030d-4be7-b1d1-02a824af6b0f",
   "metadata": {},
   "outputs": [],
   "source": [
    "import os"
   ]
  },
  {
   "cell_type": "code",
   "execution_count": 32,
   "id": "3b062770-cdd6-4902-ba91-b3b878ed7ce9",
   "metadata": {},
   "outputs": [],
   "source": [
    "os.chdir(\"C:\\\\Users\\\\HP\\\\jn\")"
   ]
  },
  {
   "cell_type": "code",
   "execution_count": 33,
   "id": "17789869-2e94-4df5-96b7-2784bb12a10f",
   "metadata": {},
   "outputs": [],
   "source": [
    "with open (\"words.txt\") as file:\n",
    "    Data = file.readlines()\n",
    "\n",
    "Data = [i.strip() for i in Data]"
   ]
  },
  {
   "cell_type": "code",
   "execution_count": 35,
   "id": "182bf698-4f27-4fbb-900a-219ff283fefe",
   "metadata": {},
   "outputs": [
    {
     "name": "stdout",
     "output_type": "stream",
     "text": [
      "Spello training started..\n",
      "Context model training started ...\n",
      "Symspell training started ...\n",
      "Phoneme training started ...\n",
      "Spello training completed successfully ...\n"
     ]
    }
   ],
   "source": [
    "model.train(Data)"
   ]
  },
  {
   "cell_type": "code",
   "execution_count": 41,
   "id": "c710f1ae-8795-480e-9fdd-b4792c185517",
   "metadata": {},
   "outputs": [
    {
     "data": {
      "text/plain": [
       "'.\\\\model.pkl'"
      ]
     },
     "execution_count": 41,
     "metadata": {},
     "output_type": "execute_result"
    }
   ],
   "source": [
    "model.save(\"\")"
   ]
  },
  {
   "cell_type": "code",
   "execution_count": 42,
   "id": "888dff3f-097b-4bae-bd51-22840ae5ed45",
   "metadata": {},
   "outputs": [
    {
     "data": {
      "text/plain": [
       "<spello.model.SpellCorrectionModel at 0x1f4ebbc7a10>"
      ]
     },
     "execution_count": 42,
     "metadata": {},
     "output_type": "execute_result"
    }
   ],
   "source": [
    "model.load(\"model.pkl\")"
   ]
  },
  {
   "cell_type": "code",
   "execution_count": 47,
   "id": "401c361a-3a0b-4413-8a4f-ac047afa8b2e",
   "metadata": {},
   "outputs": [
    {
     "name": "stdin",
     "output_type": "stream",
     "text": [
      "Enter the sentence/word :  helo\n"
     ]
    }
   ],
   "source": [
    "lines = input(\"Enter the sentence/word : \")"
   ]
  },
  {
   "cell_type": "code",
   "execution_count": 48,
   "id": "9472af53-2d52-49e2-81c7-8a9fc9b9d427",
   "metadata": {},
   "outputs": [],
   "source": [
    "words = lines.split()"
   ]
  },
  {
   "cell_type": "code",
   "execution_count": 49,
   "id": "e1403b22-c091-47f9-b9f9-bfc0a7193390",
   "metadata": {},
   "outputs": [],
   "source": [
    "correct_words = []\n",
    "for word in words:\n",
    "    corrected = model.spell_correct(word)\n",
    "    correct_words.append(corrected['spell_corrected_text'])\n",
    "    \n",
    "corrected_sentence = \" \".join(correct_words)"
   ]
  },
  {
   "cell_type": "code",
   "execution_count": 50,
   "id": "70738559-9ce7-4a89-b6ea-2b063fcc17c2",
   "metadata": {},
   "outputs": [
    {
     "name": "stdout",
     "output_type": "stream",
     "text": [
      "Corrected Sentence/word :  hello\n"
     ]
    }
   ],
   "source": [
    "print(\"Corrected Sentence/word : \",corrected_sentence)"
   ]
  },
  {
   "cell_type": "code",
   "execution_count": null,
   "id": "da794e3e-23dd-4b88-a62a-3929a79b56fd",
   "metadata": {},
   "outputs": [],
   "source": []
  }
 ],
 "metadata": {
  "kernelspec": {
   "display_name": "Python 3 (ipykernel)",
   "language": "python",
   "name": "python3"
  },
  "language_info": {
   "codemirror_mode": {
    "name": "ipython",
    "version": 3
   },
   "file_extension": ".py",
   "mimetype": "text/x-python",
   "name": "python",
   "nbconvert_exporter": "python",
   "pygments_lexer": "ipython3",
   "version": "3.11.4"
  }
 },
 "nbformat": 4,
 "nbformat_minor": 5
}
