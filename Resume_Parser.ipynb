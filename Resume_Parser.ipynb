{
 "cells": [
  {
   "cell_type": "code",
   "execution_count": 1,
   "id": "65c8ddc4-2ae0-42e6-8b62-475eefa0c96e",
   "metadata": {},
   "outputs": [],
   "source": [
    "def calculate_score(job_requirements, candidate_skills):\n",
    "    \n",
    "    match_count = sum(1 for word in job_requirements if word in candidate_skills)\n",
    "    return match_count"
   ]
  },
  {
   "cell_type": "code",
   "execution_count": 2,
   "id": "48759d4d-b884-44c5-848d-cde9284e6ac9",
   "metadata": {},
   "outputs": [],
   "source": [
    "def find_best_candidate(job_requirements, candidate_profiles):\n",
    "    best_candidate = None\n",
    "    best_score = 0\n",
    "\n",
    "    for candidate in candidate_profiles:\n",
    "        candidate_skills = candidate['skills']\n",
    "        candidate_experience = candidate['experience']\n",
    "        communication_skills = candidate['communication_skills']\n",
    "        \n",
    "        score = calculate_score(job_requirements, candidate_skills)\n",
    "        \n",
    "        # Adjust score based on experience\n",
    "        score += candidate_experience\n",
    "        \n",
    "        # Adjust score based on communication skills\n",
    "        if communication_skills == 'excellent':\n",
    "            score += 2\n",
    "        elif communication_skills == 'good':\n",
    "            score += 1\n",
    "        \n",
    "        # Check if the current candidate has a higher score than the previous best candidate\n",
    "        if score > best_score:\n",
    "            best_candidate = candidate\n",
    "            best_score = score\n",
    "\n",
    "    return best_candidate\n",
    "#printing best candidate for the job"
   ]
  },
  {
   "cell_type": "code",
   "execution_count": 3,
   "id": "ccacf125-896b-40e7-b747-5fe328226d5d",
   "metadata": {},
   "outputs": [],
   "source": [
    "def print_candidate(candidate):\n",
    "    if candidate:\n",
    "        print(\"Best candidate for the job:\")\n",
    "        print(f\"Name: {candidate['name']}\")\n",
    "        print(f\"Skills: {', '.join(candidate['skills'])}\")\n",
    "        print(f\"Experience: {candidate['experience']} years\")\n",
    "        print(f\"Communication Skills: {candidate['communication_skills']}\")\n",
    "    else:\n",
    "        print(\"No suitable candidates found.\")"
   ]
  },
  {
   "cell_type": "code",
   "execution_count": 4,
   "id": "ea796741-36e4-458f-8099-f5a434ba45ef",
   "metadata": {},
   "outputs": [],
   "source": [
    "def get_job_requirements():\n",
    "    job_requirements = []\n",
    "    while True:\n",
    "        requirement = input(\"Enter a job requirement (or 'done' to finish): \")\n",
    "        if requirement.lower() == 'done':\n",
    "            break\n",
    "        job_requirements.append(requirement.lower())\n",
    "    return job_requirements"
   ]
  },
  {
   "cell_type": "code",
   "execution_count": 5,
   "id": "fb29c3cf-3843-416a-9d97-e1b66d3dba08",
   "metadata": {},
   "outputs": [],
   "source": [
    "def main():\n",
    "    # Get job requirements from the user\n",
    "    print(\"Enter the job requirements:\")\n",
    "    job_requirements = get_job_requirements()\n",
    "\n",
    "    # Define candidate profiles\n",
    "    candidate_profiles = [\n",
    "        {\n",
    "            'name': 'Vivek',\n",
    "            'skills': ['GUI using Pyqt module', 'data handling', 'java'],\n",
    "            'experience': 1,\n",
    "            'communication_skills': 'excellent'\n",
    "        },\n",
    "        {\n",
    "            'name': 'Elvis',\n",
    "            'skills': ['python', 'machine learning', 'data visualization','java'],\n",
    "            'experience': 5,\n",
    "            'communication_skills': 'good'\n",
    "        },\n",
    "        {\n",
    "            'name': 'Mayank',\n",
    "            'skills': ['C++', 'machine learning', 'communication skills'],\n",
    "            'experience': 2,\n",
    "            'communication_skills': 'excellent'\n",
    "        },\n",
    "        {\n",
    "            'name': 'Suresh',\n",
    "            'skills': ['Html', 'deep learning', 'communication skills'],\n",
    "            'experience': 4,\n",
    "            'communication_skills': 'better'\n",
    "        },\n",
    "        {\n",
    "            'name': 'Dravid',\n",
    "            'skills': ['python', 'data visualization', 'communication skills','java'],\n",
    "            'experience': 6,\n",
    "            'communication_skills': 'better'\n",
    "        },\n",
    "         {\n",
    "            'name': 'Shekhar',\n",
    "            'skills': ['SQL', 'data handling', 'Html','java'],\n",
    "            'experience': 5,\n",
    "            'communication_skills': 'good'\n",
    "        },\n",
    "         {\n",
    "            'name': 'Soumyta',\n",
    "            'skills': ['python', 'data visualization', 'communication skills','deep learning'],\n",
    "            'experience': 5,\n",
    "            'communication_skills': 'excellent'\n",
    "        },\n",
    "         {\n",
    "            'name': 'Varun',\n",
    "            'skills': ['GUI using Pyqt module', 'data analysis', 'communication skills','C'],\n",
    "            'experience': 3,\n",
    "            'communication_skills': 'better'\n",
    "        },\n",
    "         {\n",
    "            'name': 'Mahesh',\n",
    "            'skills': ['python', 'data analysis', 'C','C++'],\n",
    "            'experience': 6,\n",
    "            'communication_skills': 'good'\n",
    "        },\n",
    "         {\n",
    "            'name': 'Vishakha',\n",
    "            'skills': ['Html', 'data analysis', 'communication skills','C++'],\n",
    "            'experience': 2,\n",
    "            'communication_skills': 'better'\n",
    "        }\n",
    "        \n",
    "    ]\n",
    "\n",
    "    # Find the best candidate\n",
    "    best_candidate = find_best_candidate(job_requirements, candidate_profiles)\n",
    "\n",
    "    # Output the best candidate\n",
    "    print_candidate(best_candidate)"
   ]
  },
  {
   "cell_type": "code",
   "execution_count": 9,
   "id": "c8a06522-3574-4cea-ad6b-9b8f86bef28a",
   "metadata": {},
   "outputs": [
    {
     "name": "stdout",
     "output_type": "stream",
     "text": [
      "Enter the job requirements:\n"
     ]
    },
    {
     "name": "stdin",
     "output_type": "stream",
     "text": [
      "Enter a job requirement (or 'done' to finish):  c++\n",
      "Enter a job requirement (or 'done' to finish):  communication skills\n",
      "Enter a job requirement (or 'done' to finish):  done\n"
     ]
    },
    {
     "name": "stdout",
     "output_type": "stream",
     "text": [
      "Best candidate for the job:\n",
      "Name: Soumyta\n",
      "Skills: python, data visualization, communication skills, deep learning\n",
      "Experience: 5 years\n",
      "Communication Skills: excellent\n"
     ]
    }
   ],
   "source": [
    "if __name__ == \"__main__\":\n",
    "    main()"
   ]
  },
  {
   "cell_type": "code",
   "execution_count": null,
   "id": "e27ff0df-fc5b-41d9-8442-a66488e32422",
   "metadata": {},
   "outputs": [],
   "source": []
  }
 ],
 "metadata": {
  "kernelspec": {
   "display_name": "Python 3 (ipykernel)",
   "language": "python",
   "name": "python3"
  },
  "language_info": {
   "codemirror_mode": {
    "name": "ipython",
    "version": 3
   },
   "file_extension": ".py",
   "mimetype": "text/x-python",
   "name": "python",
   "nbconvert_exporter": "python",
   "pygments_lexer": "ipython3",
   "version": "3.11.4"
  }
 },
 "nbformat": 4,
 "nbformat_minor": 5
}
