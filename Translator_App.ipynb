{
 "cells": [
  {
   "cell_type": "code",
   "execution_count": null,
   "id": "ba556015-51df-49db-b40b-2525df2b1e91",
   "metadata": {},
   "outputs": [],
   "source": [
    "#................................................................Bharath Intern.........................................................................\n",
    "#Task: 3\n",
    "#Translator App:\n",
    "#You have to create a translator AI which\n",
    "#translate between any two languages. Its\n",
    "#upon you to choose language."
   ]
  },
  {
   "cell_type": "code",
   "execution_count": 1,
   "id": "a13f47e3-19bf-47bf-bc1b-30f8008e39b7",
   "metadata": {},
   "outputs": [],
   "source": [
    "from googletrans import Translator"
   ]
  },
  {
   "cell_type": "code",
   "execution_count": 2,
   "id": "8565d36e-f68b-4c36-8154-1b69efeccbc9",
   "metadata": {},
   "outputs": [],
   "source": [
    "# Create a Translator object\n",
    "translator = Translator()"
   ]
  },
  {
   "cell_type": "code",
   "execution_count": 3,
   "id": "e408c937-4e49-4db2-a51a-58c810a78b48",
   "metadata": {},
   "outputs": [],
   "source": [
    "def translate_text_to_indian_languages(text, source_lang):\n",
    "    indian_languages = {\n",
    "        \"Hindi\": \"hi\",\n",
    "        \"Bengali\": \"bn\",\n",
    "        \"Tamil\": \"ta\",\n",
    "        \"Marathi\": \"mr\",\n",
    "        \"Telugu\": \"te\",\n",
    "        \"Kannada\": \"kn\",\n",
    "        \"Gujarati\": \"gu\",\n",
    "        \"Punjabi\": \"pa\",\n",
    "        \"Urdu\": \"ur\"\n",
    "    }\n",
    "    translations = {}\n",
    "\n",
    "    try:\n",
    "        for lang_name, lang_code in indian_languages.items():\n",
    "            # Translate the text to Indian languages\n",
    "            translated_text = translator.translate(text, src=source_lang, dest=lang_code)\n",
    "            translations[lang_name] = translated_text.text\n",
    "\n",
    "        return translations\n",
    "    except Exception as e:\n",
    "        return f\"Translation error: {str(e)}\""
   ]
  },
  {
   "cell_type": "code",
   "execution_count": 5,
   "id": "0bb7c02b-44ce-4e70-971d-32f55d5fd24b",
   "metadata": {},
   "outputs": [
    {
     "name": "stdin",
     "output_type": "stream",
     "text": [
      "Enter the source text:  hello how are you\n",
      "Enter the source language (e.g., 'en' for English):  en\n"
     ]
    },
    {
     "name": "stdout",
     "output_type": "stream",
     "text": [
      "Source Text (en): hello how are you\n",
      "Translated Text (Hindi): नमस्ते, आप कैसे हैं\n",
      "Translated Text (Bengali): হ্যালো, আপনি কেমন আছেন\n",
      "Translated Text (Tamil): வணக்கம் எப்படி இருக்கிறாய்\n",
      "Translated Text (Marathi): नमस्कार आपण कसे आहात\n",
      "Translated Text (Telugu): హలో మీరు ఎలా ఉన్నారు\n",
      "Translated Text (Kannada): ಹಲೋ ನೀವು ಹೇಗಿದ್ದೀರಿ\n",
      "Translated Text (Gujarati): હેલો તમે કેમ છો\n",
      "Translated Text (Punjabi): ਹੈਲੋ ਤੁਸੀ ਕਿਵੇਂ ਹੋ\n",
      "Translated Text (Urdu): ہیلو آپ کیسے ہیں\n"
     ]
    }
   ],
   "source": [
    "# Get user input\n",
    "source_text = input(\"Enter the source text: \")\n",
    "source_lang = input(\"Enter the source language (e.g., 'en' for English): \")\n",
    "\n",
    "translations = translate_text_to_indian_languages(source_text, source_lang)\n",
    "\n",
    "print(f\"Source Text ({source_lang}): {source_text}\")\n",
    "for lang_name, translated_text in translations.items():\n",
    "    print(f\"Translated Text ({lang_name}): {translated_text}\")"
   ]
  },
  {
   "cell_type": "code",
   "execution_count": null,
   "id": "db1def80-f44d-441e-bd72-3776061e54d8",
   "metadata": {},
   "outputs": [],
   "source": []
  }
 ],
 "metadata": {
  "kernelspec": {
   "display_name": "Python 3 (ipykernel)",
   "language": "python",
   "name": "python3"
  },
  "language_info": {
   "codemirror_mode": {
    "name": "ipython",
    "version": 3
   },
   "file_extension": ".py",
   "mimetype": "text/x-python",
   "name": "python",
   "nbconvert_exporter": "python",
   "pygments_lexer": "ipython3",
   "version": "3.11.4"
  }
 },
 "nbformat": 4,
 "nbformat_minor": 5
}
